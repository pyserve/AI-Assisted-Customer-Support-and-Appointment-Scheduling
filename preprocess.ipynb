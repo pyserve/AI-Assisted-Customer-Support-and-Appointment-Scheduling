{
 "cells": [
  {
   "cell_type": "code",
   "execution_count": 1,
   "metadata": {},
   "outputs": [],
   "source": [
    "import pandas as pd"
   ]
  },
  {
   "cell_type": "code",
   "execution_count": null,
   "metadata": {},
   "outputs": [],
   "source": []
  },
  {
   "cell_type": "code",
   "execution_count": 6,
   "metadata": {},
   "outputs": [],
   "source": [
    "df = pd.read_excel(\"./Call_Recordings_Analysis.xlsx\")"
   ]
  },
  {
   "cell_type": "code",
   "execution_count": 8,
   "metadata": {},
   "outputs": [
    {
     "data": {
      "text/plain": [
       "0                              Hi there, you've reached\n",
       "1      Hello, my speaking, am I speaking with Ms. Ma...\n",
       "2      Hello, my speaking Jamil van Zing. Your call ...\n",
       "3      Hello. How am I speaking to Ruby? Yes. Hi, th...\n",
       "4            You have reached the voicemail box of 416.\n",
       "                            ...                        \n",
       "95               Your call has been forwarded to voice.\n",
       "96     Hello. How am I singing to Sikun? Hi, this is...\n",
       "97     percent. Here it go. Hello. How July 28 of th...\n",
       "98     This call is being recorded. So, good afterno...\n",
       "99                 You have reached mailbox number 647.\n",
       "Name: transcription, Length: 100, dtype: object"
      ]
     },
     "execution_count": 8,
     "metadata": {},
     "output_type": "execute_result"
    }
   ],
   "source": [
    "df[\"transcription\"]"
   ]
  }
 ],
 "metadata": {
  "kernelspec": {
   "display_name": "base",
   "language": "python",
   "name": "python3"
  },
  "language_info": {
   "codemirror_mode": {
    "name": "ipython",
    "version": 3
   },
   "file_extension": ".py",
   "mimetype": "text/x-python",
   "name": "python",
   "nbconvert_exporter": "python",
   "pygments_lexer": "ipython3",
   "version": "3.11.5"
  }
 },
 "nbformat": 4,
 "nbformat_minor": 2
}
